{
  "nbformat": 4,
  "nbformat_minor": 0,
  "metadata": {
    "colab": {
      "provenance": []
    },
    "kernelspec": {
      "name": "python3",
      "display_name": "Python 3"
    },
    "language_info": {
      "name": "python"
    }
  },
  "cells": [
    {
      "cell_type": "code",
      "execution_count": null,
      "metadata": {
        "id": "yho9CteUEwIG"
      },
      "outputs": [],
      "source": [
        "import pandas as pd\n",
        "import numpy as np\n",
        "from sklearn.model_selection import train_test_split, cross_val_score\n",
        "from sklearn.model_selection import KFold\n",
        "from sklearn import preprocessing\n",
        "from scipy.stats import shapiro, mannwhitneyu"
      ]
    },
    {
      "cell_type": "code",
      "source": [
        "from sklearn.ensemble import RandomForestRegressor"
      ],
      "metadata": {
        "id": "dcrVIktdE7YM"
      },
      "execution_count": null,
      "outputs": []
    },
    {
      "cell_type": "code",
      "source": [
        "rf = RandomForestRegressor()\n",
        "df = pd.DataFrame({'a' : [1, 2, 3], 'target' : [3, 3, 3]})"
      ],
      "metadata": {
        "id": "rXtTHVC5E9_T"
      },
      "execution_count": null,
      "outputs": []
    },
    {
      "cell_type": "code",
      "source": [
        "import seaborn as sns\n",
        "import matplotlib.pyplot as plt"
      ],
      "metadata": {
        "id": "yzX8oNXfFGqa"
      },
      "execution_count": null,
      "outputs": []
    },
    {
      "cell_type": "code",
      "source": [
        "# !pip install lightgbm\n",
        "# !pip install xgboost\n",
        "# !pip install catboost"
      ],
      "metadata": {
        "id": "6AE84YQ8FAeY"
      },
      "execution_count": null,
      "outputs": []
    },
    {
      "cell_type": "code",
      "source": [
        "from sklearn.ensemble import RandomForestRegressor, GradientBoostingRegressor\n",
        "from mlxtend.regressor import StackingCVRegressor\n",
        "from sklearn.metrics import classification_report, mean_squared_error, mean_absolute_percentage_error, mean_absolute_error, r2_score\n",
        "from lightgbm import LGBMRegressor\n",
        "from xgboost import XGBRegressor\n",
        "from catboost import CatBoostRegressor"
      ],
      "metadata": {
        "id": "eG__WZxmFEjV"
      },
      "execution_count": null,
      "outputs": []
    },
    {
      "cell_type": "code",
      "source": [
        "train = pd.read_csv('/content/sample_data/black_friday_train.csv')\n",
        "train.head()"
      ],
      "metadata": {
        "id": "w9auC6m0FKJG"
      },
      "execution_count": null,
      "outputs": []
    },
    {
      "cell_type": "code",
      "source": [
        "sns.distplot(train['Purchase'])\n",
        "plt.show()"
      ],
      "metadata": {
        "id": "Ri0VT_NbFect"
      },
      "execution_count": null,
      "outputs": []
    },
    {
      "cell_type": "code",
      "source": [
        "X = train.drop([\"Purchase\"], axis=1) #убираем колонку с названием Purchase\n",
        "y = train[\"Purchase\"]"
      ],
      "metadata": {
        "id": "lH9s4kJxFbHr"
      },
      "execution_count": null,
      "outputs": []
    },
    {
      "cell_type": "code",
      "source": [
        "x_train, x_test, y_train, y_test = train_test_split(X, y, test_size=0.33, random_state=42)"
      ],
      "metadata": {
        "id": "8KBf419LFlec"
      },
      "execution_count": null,
      "outputs": []
    },
    {
      "cell_type": "code",
      "source": [
        "def rmse(y, y_pred):\n",
        "    return np.sqrt(mean_squared_error(y, y_pred))"
      ],
      "metadata": {
        "id": "nseuhIcmFmJP"
      },
      "execution_count": null,
      "outputs": []
    },
    {
      "cell_type": "code",
      "source": [
        "kfolds = KFold(n_splits=10, shuffle=True, random_state=42)"
      ],
      "metadata": {
        "id": "HffmMb3cFoqh"
      },
      "execution_count": null,
      "outputs": []
    },
    {
      "cell_type": "markdown",
      "source": [
        "> ## Random Forest\n"
      ],
      "metadata": {
        "id": "Yc_EHpeCFvNk"
      }
    },
    {
      "cell_type": "code",
      "source": [
        "rf = RandomForestRegressor(\n",
        "                      n_estimators = 700, # Кол-во деревьев\n",
        "                      max_depth=9,        # Глубина\n",
        "                      random_state=42,\n",
        "                      n_jobs = -1)         #Мултипоточность\n"
      ],
      "metadata": {
        "id": "9l-9sn81FqrG"
      },
      "execution_count": null,
      "outputs": []
    },
    {
      "cell_type": "code",
      "source": [
        "rf.fit(x_train, y_train)\n",
        "\n",
        "# y_rf_pred = rf.predict(x_test)\n",
        "\n",
        "# rmse(10**y_test, 10**y_rf_pred)\n",
        "# r2_score(10**y_test, 10**y_rf_pred)"
      ],
      "metadata": {
        "id": "RFrVf5XKF0ea"
      },
      "execution_count": null,
      "outputs": []
    },
    {
      "cell_type": "markdown",
      "source": [
        "> ## Boosting"
      ],
      "metadata": {
        "id": "Fb2OX_QyF2qf"
      }
    },
    {
      "cell_type": "markdown",
      "source": [
        "* Gradient Boosting"
      ],
      "metadata": {
        "id": "5YXCBph6GgVN"
      }
    },
    {
      "cell_type": "code",
      "source": [
        "gbr = GradientBoostingRegressor(\n",
        "      n_estimators=260,\n",
        "      learning_rate=0.05,\n",
        "      max_depth=4,\n",
        "      loss='huber',\n",
        "      random_state =42)"
      ],
      "metadata": {
        "id": "XAAZMAyqF5bX"
      },
      "execution_count": null,
      "outputs": []
    },
    {
      "cell_type": "code",
      "source": [
        "gbr.fit(x_train, y_train)\n",
        "# y_gb_pred = gbr.predict(x_test)\n",
        "\n",
        "# rmse(10**y_test, 10**y_gb_pred)\n",
        "# r2_score(10**y_test, 10**y_gb_pred)"
      ],
      "metadata": {
        "id": "Q4xxoEfvF8G-"
      },
      "execution_count": null,
      "outputs": []
    },
    {
      "cell_type": "markdown",
      "source": [
        "* Light GBM"
      ],
      "metadata": {
        "id": "B6Vh7778F-ER"
      }
    },
    {
      "cell_type": "code",
      "source": [
        "lightgbm = LGBMRegressor(\n",
        "          objective='regression',\n",
        "          learning_rate=0.04,\n",
        "          n_estimators=250,\n",
        "          max_depth=6,\n",
        "          n_jobs=-1,\n",
        "          verbose=-1, #progress messages are printed or not\n",
        "          )"
      ],
      "metadata": {
        "id": "sLaJJOdQGDyP"
      },
      "execution_count": null,
      "outputs": []
    },
    {
      "cell_type": "code",
      "source": [
        "lightgbm.fit(x_train, y_train)\n",
        "\n",
        "# y_pred_lgb = lightgbm.predict(x_test)\n",
        "\n",
        "# rmse(10**y_test, 10**y_pred_lgb)\n",
        "# r2_score(10**y_test, 10**y_pred_lgb)"
      ],
      "metadata": {
        "id": "sNGRKEoJGKMc"
      },
      "execution_count": null,
      "outputs": []
    },
    {
      "cell_type": "markdown",
      "source": [
        "* XGBoost\n"
      ],
      "metadata": {
        "id": "zQTWt7oGGpOW"
      }
    },
    {
      "cell_type": "code",
      "source": [
        "xgb = XGBRegressor(\n",
        "                    learning_rate=0.05,\n",
        "                    n_estimators=600,\n",
        "                    max_depth=4,\n",
        "                    objective='reg:squarederror',\n",
        "                    nthread=-1,\n",
        "                    n_jobs=-1,\n",
        "                    )"
      ],
      "metadata": {
        "id": "-sKtK7EfGpdO"
      },
      "execution_count": null,
      "outputs": []
    },
    {
      "cell_type": "code",
      "source": [
        "xgb.fit(x_train, y_train)\n",
        "\n",
        "# y_pred_xgb = xgb.predict(x_test)\n",
        "\n",
        "# rmse(10**y_test, 10**y_pred_xgb)\n",
        "# r2_score(10**y_test, 10**y_pred_xgb)"
      ],
      "metadata": {
        "id": "pixo6Ks_GsGM"
      },
      "execution_count": null,
      "outputs": []
    },
    {
      "cell_type": "markdown",
      "source": [
        "> # Stacking"
      ],
      "metadata": {
        "id": "9WonpuI5Gxaj"
      }
    },
    {
      "cell_type": "code",
      "source": [
        "test = pd.read_csv('/content/sample_data/black_friday_test.csv')"
      ],
      "metadata": {
        "id": "12Wu_OcFGx25"
      },
      "execution_count": null,
      "outputs": []
    },
    {
      "cell_type": "code",
      "source": [
        "stack_gen = StackingCVRegressor(regressors=(\n",
        "                                            rf,\n",
        "                                            gbr,\n",
        "                                            xgb,\n",
        "                                            lightgbm,\n",
        "                                           ),\n",
        "                                meta_regressor=xgb,\n",
        "                                use_features_in_secondary=True)"
      ],
      "metadata": {
        "id": "xSbCIL5PG04V"
      },
      "execution_count": null,
      "outputs": []
    },
    {
      "cell_type": "code",
      "source": [
        "stack_gen.fit(X.values, y)"
      ],
      "metadata": {
        "id": "Ss3i6WUeG4Pm"
      },
      "execution_count": null,
      "outputs": []
    },
    {
      "cell_type": "code",
      "source": [
        "def blend_models_predict(X_in):\n",
        "    return (\n",
        "            (0.1 * rf.predict(X_in)) + \\\n",
        "            (0.2 * gbr.predict(X_in)) + \\\n",
        "            (0.1 * lightgbm.predict(X_in)) + \\\n",
        "            (0.2 * xgb.predict(X_in)) + \\\n",
        "            (0.4 * stack_gen.predict(X_in.values)))"
      ],
      "metadata": {
        "id": "OYaBOmznG9nH"
      },
      "execution_count": null,
      "outputs": []
    },
    {
      "cell_type": "code",
      "source": [
        "test_preds = blend_models_predict(test)"
      ],
      "metadata": {
        "id": "tdS2AmEZHCbe"
      },
      "execution_count": null,
      "outputs": []
    },
    {
      "cell_type": "code",
      "source": [
        "submission = pd.read_csv('/content/sample_data/sample_submission.csv')\n",
        "\n",
        "submission['Purchase'] = test_preds\n",
        "submission.to_csv('my_update14_lgbm_cat.csv', index=False)\n",
        "submission"
      ],
      "metadata": {
        "id": "g-qneF-ZHC97"
      },
      "execution_count": null,
      "outputs": []
    }
  ]
}